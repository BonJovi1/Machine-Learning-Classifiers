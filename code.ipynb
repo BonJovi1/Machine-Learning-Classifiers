{
 "cells": [
  {
   "cell_type": "markdown",
   "metadata": {
    "editable": false
   },
   "source": [
    "# Assignment 1\n",
    "This jupyter notebook is meant to be used in conjunction with the full questions in the assignment pdf.\n",
    "\n",
    "## Instructions\n",
    "- Write your code and analyses in the indicated cells.\n",
    "- Ensure that this notebook runs without errors when the cells are run in sequence.\n",
    "- Do not attempt to change the contents of the other cells.\n",
    "\n",
    "## Submission\n",
    "- Ensure that this notebook runs without errors when the cells are run in sequence.\n",
    "- Rename the notebook to `<roll_number>.ipynb` and submit ONLY the notebook file on moodle."
   ]
  },
  {
   "cell_type": "markdown",
   "metadata": {
    "editable": false
   },
   "source": [
    "### Environment setup\n",
    "\n",
    "The following code reads the train and test data (provided along with this template) and outputs the data and labels as numpy arrays. Use these variables in your code.\n",
    "\n",
    "---\n",
    "#### Note on conventions\n",
    "In mathematical notation, the convention is tha data matrices are column-indexed, which means that a input data $x$ has shape $[d, n]$, where $d$ is the number of dimensions and $n$ is the number of data points, respectively.\n",
    "\n",
    "Programming languages have a slightly different convention. Data matrices are of shape $[n, d]$. This has the benefit of being able to access the ith data point as a simple `data[i]`.\n",
    "\n",
    "What this means is that you need to be careful about your handling of matrix dimensions. For example, while the covariance matrix (of shape $[d,d]$) for input data $x$ is calculated as $(x-u)(x-u)^T$, while programming you would do $(x-u)^T(x-u)$ to get the correct output shapes."
   ]
  },
  {
   "cell_type": "code",
   "execution_count": 1,
   "metadata": {
    "editable": false,
    "scrolled": true
   },
   "outputs": [
    {
     "name": "stdout",
     "output_type": "stream",
     "text": [
      "(6000, 784) (1000, 784)\n",
      "(6000,) (1000,)\n"
     ]
    }
   ],
   "source": [
    "from __future__ import print_function\n",
    "\n",
    "import numpy as np\n",
    "import matplotlib.pyplot as plt\n",
    "\n",
    "def read_data(filename):\n",
    "    with open(filename, 'r') as f:\n",
    "        lines = f.readlines()\n",
    "    \n",
    "    num_points = len(lines)\n",
    "    dim_points = 28 * 28\n",
    "    data = np.empty((num_points, dim_points))\n",
    "    labels = np.empty(num_points)\n",
    "    \n",
    "    for ind, line in enumerate(lines):\n",
    "        num = line.split(',')\n",
    "        labels[ind] = int(num[0])\n",
    "        data[ind] = [ int(x) for x in num[1:] ]\n",
    "        \n",
    "    return (data, labels)\n",
    "\n",
    "train_data, train_labels = read_data(\"sample_train.csv\")\n",
    "test_data, test_labels = read_data(\"sample_test.csv\")\n",
    "print(train_data.shape, test_data.shape)\n",
    "print(train_labels.shape, test_labels.shape)"
   ]
  },
  {
   "cell_type": "markdown",
   "metadata": {
    "editable": false
   },
   "source": [
    "# Questions\n",
    "---\n",
    "## 1.3.1 Representation\n",
    "The next code cells, when run, should plot the eigen value spectrum of the covariance matrices corresponding to the mentioned samples. Normalize the eigen value spectrum and only show the first 100 values."
   ]
  },
  {
   "cell_type": "code",
   "execution_count": 2,
   "metadata": {},
   "outputs": [
    {
     "data": {
      "text/plain": [
       "[<matplotlib.lines.Line2D at 0x111d592b0>]"
      ]
     },
     "execution_count": 2,
     "metadata": {},
     "output_type": "execute_result"
    },
    {
     "data": {
      "image/png": "[encoded data removed]",
      "text/plain": [
       "<Figure size 432x288 with 1 Axes>"
      ]
     },
     "metadata": {
      "needs_background": "light"
     },
     "output_type": "display_data"
    }
   ],
   "source": [
    "# Samples corresponding to the last digit of your roll number (plot a)\n",
    "indices = []\n",
    "length = len(train_labels)\n",
    "for i in range(length):\n",
    "    if(train_labels[i] == 9):\n",
    "        indices.append(i)\n",
    "# for i in indices:\n",
    "#     print (i)\n",
    "data = []\n",
    "for i in indices:\n",
    "    data.append(train_data[i])\n",
    "# print(len(data))\n",
    "\n",
    "cova = np.cov(np.transpose(data))#because we want (600,784)\n",
    "# print (cova.shape)\n",
    "\n",
    "eigval,eigvec = np.linalg.eig(cova)\n",
    "eigval=eigval.real\n",
    "# print(eigvec.shape)\n",
    "mean = np.mean(eigval)\n",
    "std = np.std(eigval)\n",
    "eigval = (eigval-mean)/std\n",
    "\n",
    "# print(eigval);\n",
    "np.sort(eigval)\n",
    "xaxis=[]\n",
    "for i in range(1,101):\n",
    "    xaxis.append(i)\n",
    "plt.scatter(xaxis,eigval[:100])\n",
    "plt.plot(eigval[:100])\n",
    "\n",
    "# print(eigval.shape)\n",
    "\n",
    "\n",
    "\n",
    "        \n",
    "        \n"
   ]
  },
  {
   "cell_type": "code",
   "execution_count": 3,
   "metadata": {},
   "outputs": [
    {
     "data": {
      "text/plain": [
       "[<matplotlib.lines.Line2D at 0x112fa46d8>]"
      ]
     },
     "execution_count": 3,
     "metadata": {},
     "output_type": "execute_result"
    },
    {
     "data": {
      "image/png": "[encoded data removed]",
      "text/plain": [
       "<Figure size 432x288 with 1 Axes>"
      ]
     },
     "metadata": {
      "needs_background": "light"
     },
     "output_type": "display_data"
    }
   ],
   "source": [
    "# Samples corresponding to the last digit of (your roll number + 1) % 10 (plot b)\n",
    "# Samples corresponding to the last digit of your roll number (plot a)\n",
    "indices = []\n",
    "length = len(train_labels)\n",
    "for i in range(length):\n",
    "    if(train_labels[i] == 0):\n",
    "        indices.append(i)\n",
    "        \n",
    "data = []\n",
    "for i in indices:\n",
    "    data.append(train_data[i])\n",
    "\n",
    "cova = np.cov(np.transpose(data))# because we want (600,784)\n",
    "\n",
    "eigval,eigvec = np.linalg.eig(cova)\n",
    "eigval=eigval.real\n",
    "mean = np.mean(eigval)\n",
    "std = np.std(eigval)\n",
    "eigval = (eigval-mean)/std\n",
    "\n",
    "np.sort(eigval)\n",
    "xaxis=[]\n",
    "for i in range(1,101):\n",
    "    xaxis.append(i)\n",
    "plt.scatter(xaxis,eigval[:100])\n",
    "plt.plot(eigval[:100])"
   ]
  },
  {
   "cell_type": "code",
   "execution_count": 4,
   "metadata": {},
   "outputs": [
    {
     "data": {
      "text/plain": [
       "[<matplotlib.lines.Line2D at 0x115452c50>]"
      ]
     },
     "execution_count": 4,
     "metadata": {},
     "output_type": "execute_result"
    },
    {
     "data": {
      "image/png": "[encoded data removed]",
      "text/plain": [
       "<Figure size 432x288 with 1 Axes>"
      ]
     },
     "metadata": {
      "needs_background": "light"
     },
     "output_type": "display_data"
    }
   ],
   "source": [
    "# All training data (plot c)\n",
    "\n",
    "cova = np.cov(np.transpose(train_data))# because we want (600,784)\n",
    "\n",
    "eigval,eigvec = np.linalg.eig(cova)\n",
    "eigval=eigval.real\n",
    "mean = np.mean(eigval)\n",
    "std = np.std(eigval)\n",
    "eigval = (eigval-mean)/std\n",
    "\n",
    "np.sort(eigval)\n",
    "xaxis=[]\n",
    "for i in range(1,101):\n",
    "    xaxis.append(i)\n",
    "plt.scatter(xaxis,eigval[:100])\n",
    "plt.plot(eigval[:100])"
   ]
  },
  {
   "cell_type": "code",
   "execution_count": 5,
   "metadata": {},
   "outputs": [
    {
     "data": {
      "text/plain": [
       "[<matplotlib.lines.Line2D at 0x11555c4a8>]"
      ]
     },
     "execution_count": 5,
     "metadata": {},
     "output_type": "execute_result"
    },
    {
     "data": {
      "image/png": "[encoded data removed]",
      "text/plain": [
       "<Figure size 432x288 with 1 Axes>"
      ]
     },
     "metadata": {
      "needs_background": "light"
     },
     "output_type": "display_data"
    }
   ],
   "source": [
    "# Randomly selected 50% of the training data (plot d)\n",
    "import random\n",
    "\n",
    "indices = []\n",
    "ctr = 0\n",
    "while (ctr<3000):\n",
    "    temp = random.randint(0, 5999)\n",
    "    if(temp not in indices):\n",
    "        indices.append(temp)\n",
    "        ctr = ctr+1\n",
    "        \n",
    "data = []\n",
    "for i in indices:\n",
    "    data.append(train_data[i])\n",
    "\n",
    "cova = np.cov(np.transpose(data))# because we want (600,784)\n",
    "\n",
    "eigval,eigvec = np.linalg.eig(cova)\n",
    "eigval = eigval.real\n",
    "mean = np.mean(eigval)\n",
    "std = np.std(eigval)\n",
    "eigval = (eigval-mean)/std\n",
    "\n",
    "np.sort(eigval)\n",
    "xaxis=[]\n",
    "for i in range(1,101):\n",
    "    xaxis.append(i)\n",
    "plt.scatter(xaxis,eigval[:100])\n",
    "plt.plot(eigval[:100])"
   ]
  },
  {
   "cell_type": "markdown",
   "metadata": {
    "editable": false
   },
   "source": [
    "### 1.3.1 Question 1\n",
    "- Are plots a and b different? Why?\n",
    "- Are plots b and c different? Why?\n",
    "- What are the approximate ranks of each plot?"
   ]
  },
  {
   "cell_type": "markdown",
   "metadata": {},
   "source": [
    "---\n",
    "### Plots a and b\n",
    "- Yes, plots a and b are different. Plot a corresponds to the digit '9' and plot b to the digit '0'. The magnitude of the eigen values are different for both the cases. For instance, the magnitude of the eigen values in plot b is higher, one of them reaching 12.5, and two of them around 7.5. In plot a, the highest magnitude of the eigenvalue is 10, and lots of them are cluttered around 5. \n",
    "- We notice in general that the graphs are hyperbolic in shape, with minor variations, for instance, some have a larger quantity of greater eigen values. \n",
    "\n",
    "### Plots b and c\n",
    "Yes, these plots are different too. As we can see, plot b is steeper than plot c, that is, there are a greater number of non zero eigenvalues in plot c as compared to b. This is because in plot c, we are considering all the training data. Since all of them are contributing, we will have a greater number of non zero eigen values. Hence, the difference in the graphs. \n",
    "\n",
    "### Approximate Ranks\n",
    "We find the point when the eigen values almost start becoming zero\n",
    "- plot a: $\\approx$ 25\n",
    "- plot b: $\\approx$20\n",
    "- plot c: $\\approx$30\n",
    "- plot d: $\\approx$30 \n",
    "\n",
    "---"
   ]
  },
  {
   "cell_type": "markdown",
   "metadata": {
    "editable": false
   },
   "source": [
    "### 1.3.1 Question 2\n",
    "- How many possible images could there be?\n",
    "- What percentage is accessible to us as MNIST data?\n",
    "- If we had acces to all the data, how would the eigen value spectrum of the covariance matrix look?"
   ]
  },
  {
   "cell_type": "markdown",
   "metadata": {},
   "source": [
    "### Answers\n",
    "\n",
    "- Possible Images: Since each pixel can have values either 0 or 1, there are 2<sup>784</sup> images possible, because 28x28 = 784.\n",
    "- Total number of images are 7000. \n",
    "\\begin{equation*}\n",
    "    Percentage = \\frac{7000}{2^{784}}\\times 100 \\approx 0\n",
    "\\end{equation*}\n",
    "- But since only 6000 belong to the training set, and the other are in the test set, we can say that 6000/2<sup>784</sup> images would be accessible \n",
    "- The eigen value spectrum would be a straight line of the form y=k, parallel to x-axis because all 784 eigen values would be dominant. Data would be spread uniformly across all the dimensions."
   ]
  },
  {
   "cell_type": "markdown",
   "metadata": {
    "editable": false
   },
   "source": [
    "## 1.3.2 Linear Transformation\n",
    "---\n",
    "### 1.3.2 Question 1\n",
    "How does the eigen spectrum change if the original data was multiplied by an orthonormal matrix? Answer analytically and then also validate experimentally."
   ]
  },
  {
   "cell_type": "markdown",
   "metadata": {},
   "source": [
    "### Multiplying by an orthonormal matrix\n",
    "Even after multiplying with an orthonormal matrix, the eigenvalue spectrum remains the same! When the training data set is multiplied with an orthonormal matrix, it does cause rotation, but the lengths would be preserved. The eigen vectors do change, but not the eigenvalues, because there is no change in length. \n",
    "\n",
    "\\begin{equation}\n",
    "    \\Sigma = \\frac{1}{N} \\sum_{i=1}^{N}(x-\\mu)(x-\\mu)^{T}\n",
    "\\end{equation}\n",
    "\n",
    "We multiply $x$ with $A$ such that $AA^{T} = I$. Let,\n",
    "\n",
    "\\begin{equation}\n",
    "    \\Sigma^{'} = \\frac{1}{N} \\sum_{i=1}^{N}(Ax-\\mu)(Ax-\\mu)^{T}\n",
    "    {} = \\frac{1}{N} \\sum_{i=1}^{N}A(x-\\mu)(x-\\mu)^{T}A^{T}\n",
    "    {} = A \\Sigma A^{T}\n",
    "\\end{equation}\n",
    "\n",
    "Since $\\Sigma^{'}$ and $\\Sigma$ are similar therefore the eigen values will be same.\n",
    "\n"
   ]
  },
  {
   "cell_type": "code",
   "execution_count": 70,
   "metadata": {},
   "outputs": [
    {
     "data": {
      "text/plain": [
       "<matplotlib.collections.PathCollection at 0x1144f7978>"
      ]
     },
     "execution_count": 70,
     "metadata": {},
     "output_type": "execute_result"
    },
    {
     "data": {
      "image/png": "[encoded data removed]",
      "text/plain": [
       "<Figure size 432x288 with 1 Axes>"
      ]
     },
     "metadata": {
      "needs_background": "light"
     },
     "output_type": "display_data"
    }
   ],
   "source": [
    "# Experimental validation here.\n",
    "# Multiply your data (train_data) with an orthonormal matrix and plot the\n",
    "# eigen value specturm of the new covariance matrix.\n",
    "\n",
    "# code goes here\n",
    "n = 784\n",
    "H = np.random.rand(n, n)\n",
    "u, s, v = np.linalg.svd(H, full_matrices=False)\n",
    "# print(u.shape)\n",
    "mat = u @ v\n",
    "new = train_data @ mat\n",
    "# print(new.shape)\n",
    "\n",
    "cova = np.cov(np.transpose(new))# because we want (600,784)\n",
    "\n",
    "eigval,eigvec = np.linalg.eig(cova)\n",
    "eigval = eigval.real\n",
    "mean = np.mean(eigval)\n",
    "std = np.std(eigval)\n",
    "eigval = (eigval-mean)/std\n",
    "\n",
    "np.sort(eigval)\n",
    "xaxis=[]\n",
    "for i in range(1,101):\n",
    "    xaxis.append(i)\n",
    "plt.scatter(xaxis,eigval[:100])\n",
    "# plt.plot(eigval[:100])"
   ]
  },
  {
   "cell_type": "markdown",
   "metadata": {
    "editable": false
   },
   "source": [
    "### 1.3.2 Question 2\n",
    "If  samples  were  multiplied  by  784 × 784  matrix  of rank 1 or 2, (rank deficient matrices), how will the eigen spectrum look like?"
   ]
  },
  {
   "cell_type": "markdown",
   "metadata": {},
   "source": [
    "### Multiplying by rank deficient matrices:\n",
    "If the rank of the matrix that we are multiplying with is just 1 or 2, then our samples would decompose into just 1 or 2 dimensions. We would LOSE eigenvalues. There will be onli 1 or 2 non zero eigen values, and rest everything will become zero in our eigen spectrum. So the eigenspectrum would have a very steep drop, and almost all of the values would be zero. "
   ]
  },
  {
   "cell_type": "markdown",
   "metadata": {
    "editable": false
   },
   "source": [
    "### 1.3.2 Question 3\n",
    "Project the original data into the first and second eigenvectors and plot in 2D"
   ]
  },
  {
   "cell_type": "code",
   "execution_count": 71,
   "metadata": {},
   "outputs": [
    {
     "data": {
      "text/plain": [
       "<matplotlib.collections.PathCollection at 0x11454ec18>"
      ]
     },
     "execution_count": 71,
     "metadata": {},
     "output_type": "execute_result"
    },
    {
     "data": {
      "image/png": "[encoded data removed]",
      "text/plain": [
       "<Figure size 432x288 with 1 Axes>"
      ]
     },
     "metadata": {
      "needs_background": "light"
     },
     "output_type": "display_data"
    }
   ],
   "source": [
    "# Plotting code here\n",
    "cova = np.cov(np.transpose(train_data))\n",
    "eigval, eigvec =np.linalg.eig(cova)\n",
    "eigval = eigval.real\n",
    "top2 = np.argsort(-eigval)[:2]\n",
    "eval1 = top2[0]\n",
    "eval2 = top2[1]\n",
    "evec1 = eigvec.T[eval1]\n",
    "evec2 = eigvec.T[eval2]\n",
    "# print(evec1.shape)\n",
    "xaxis = np.dot(train_data, evec1)\n",
    "yaxis = np.dot(train_data, evec2)\n",
    "plt.scatter(xaxis, yaxis)"
   ]
  },
  {
   "cell_type": "markdown",
   "metadata": {
    "editable": false
   },
   "source": [
    "## 1.3.3 Probabilistic View\n",
    "---\n",
    "In this section you will classify the test set by fitting multivariate gaussians on the train set, with different choices for decision boundaries. On running, your code should print the accuracy on your test set."
   ]
  },
  {
   "cell_type": "code",
   "execution_count": 72,
   "metadata": {},
   "outputs": [
    {
     "name": "stdout",
     "output_type": "stream",
     "text": [
      "(10, 600, 30)\n",
      "94.8\n"
     ]
    }
   ],
   "source": [
    "# Print accuracy on the test set using MLE\n",
    "cova = np.cov(np.transpose(train_data))# because we want (600,784)\n",
    "eigval,eigvec = np.linalg.eig(cova)\n",
    "# print(eigvec.shape)\n",
    "\n",
    "newcova = eigvec[:, :30] #784x25\n",
    "# print(newcova.shape)\n",
    "\n",
    "newtest = test_data.dot(newcova)#1000x25\n",
    "newtrain = train_data.dot(newcova)#6000x25\n",
    "# print(newtrain.shape)\n",
    "\n",
    "finaldata = []\n",
    "length = len(train_labels)\n",
    "for j in range(10):\n",
    "    indices = []\n",
    "    data = []\n",
    "    for i in range(length):\n",
    "        if(train_labels[i] == j):\n",
    "            indices.append(i)\n",
    "    for i in indices:\n",
    "        data.append(newtrain[i])\n",
    "    finaldata.append(data)\n",
    "print(np.asarray(finaldata).shape)#10x600x25\n",
    "\n",
    "allmeans = []\n",
    "allinverse = []\n",
    "allconsts = []\n",
    "\n",
    "for i in finaldata:\n",
    "    i = np.array(i)#600x25\n",
    "    cova = np.cov(np.transpose(i))#25x25\n",
    "    inverse = np.linalg.inv(cova)#25x25\n",
    "    deter = np.linalg.det(cova)\n",
    "    means = np.mean(i, axis = 0)#25x1\n",
    "    const_term = np.divide(1, np.power(2*np.pi,(0.5*30)) * np.power(deter, 0.5))\n",
    "    allinverse.append(inverse)\n",
    "    allmeans.append(means)\n",
    "    allconsts.append(const_term)\n",
    "    \n",
    "acc = 0\n",
    "length = len(newtest)\n",
    "for i in range(length):#going through every test data\n",
    "    cur_testdata = newtest[i]\n",
    "    results = []\n",
    "    length2 = len(finaldata)\n",
    "    for j in range(length2):\n",
    "        x_minus_mu = cur_testdata - allmeans[j]\n",
    "        exp_term = -0.5 * np.linalg.multi_dot([x_minus_mu.T, allinverse[j], x_minus_mu])\n",
    "        final_term = np.exp(exp_term) * allconsts[j]\n",
    "        results.append(final_term)\n",
    "    \n",
    "    MLE_answer = np.argmax(results)\n",
    "    if(MLE_answer)==test_labels[i]:\n",
    "        acc += 1\n",
    "        \n",
    "print(acc/10)\n",
    "\n"
   ]
  },
  {
   "cell_type": "code",
   "execution_count": 73,
   "metadata": {},
   "outputs": [
    {
     "name": "stdout",
     "output_type": "stream",
     "text": [
      "(10, 600, 30)\n",
      "94.8\n"
     ]
    }
   ],
   "source": [
    "# Print accuracy on the test set using MAP\n",
    "# (assume a reasonable prior and mention it in the comments)\n",
    "\n",
    "'''\n",
    "here, we assume our priori probability to be 0.1, that is, P(theta) = 1/10\n",
    "this is because the classes in our data set are uniformly distributed throughout.\n",
    "There are 10 classes, 6000 data points, and each class has exactly 6000/10 = 600 data points. \n",
    "Hence, we take our prioiri probablity as 0.1\n",
    "'''\n",
    "\n",
    "cova = np.cov(np.transpose(train_data))# because we want (600,784)\n",
    "eigval,eigvec = np.linalg.eig(cova)\n",
    "# print(eigvec.shape)\n",
    "\n",
    "newcova = eigvec[:, :30] #784x25\n",
    "# print(newcova.shape)\n",
    "\n",
    "newtest = test_data.dot(newcova)#1000x25\n",
    "newtrain = train_data.dot(newcova)#6000x25\n",
    "# print(newtrain.shape)\n",
    "\n",
    "finaldata = []\n",
    "length = len(train_labels)\n",
    "for j in range(10):\n",
    "    indices = []\n",
    "    data = []\n",
    "    for i in range(length):\n",
    "        if(train_labels[i] == j):\n",
    "            indices.append(i)\n",
    "    for i in indices:\n",
    "        data.append(newtrain[i])\n",
    "    finaldata.append(data)\n",
    "print(np.asarray(finaldata).shape)#10x600x25\n",
    "\n",
    "allmeans = []\n",
    "allinverse = []\n",
    "allconsts = []\n",
    "\n",
    "for i in finaldata:\n",
    "    i = np.array(i)#600x25\n",
    "    cova = np.cov(np.transpose(i))#25x25\n",
    "    inverse = np.linalg.inv(cova)#25x25\n",
    "    deter = np.linalg.det(cova)\n",
    "    means = np.mean(i, axis = 0)#25x1\n",
    "    const_term = np.divide(1, np.power(2*np.pi,(0.5*30)) * np.power(deter, 0.5))\n",
    "    allinverse.append(inverse)\n",
    "    allmeans.append(means)\n",
    "    allconsts.append(const_term)\n",
    "    \n",
    "acc = 0\n",
    "length = len(newtest)\n",
    "for i in range(length):#going through every test data\n",
    "    cur_testdata = newtest[i]\n",
    "    results = []\n",
    "    length2 = len(finaldata)\n",
    "    for j in range(length2):\n",
    "        x_minus_mu = cur_testdata - allmeans[j]\n",
    "        exp_term = -0.5 * np.linalg.multi_dot([x_minus_mu.T, allinverse[j], x_minus_mu])\n",
    "        final_term = np.exp(exp_term) * allconsts[j] * 0.1\n",
    "        results.append(final_term)\n",
    "    \n",
    "    MLE_answer = np.argmax(results)\n",
    "    if(MLE_answer)==test_labels[i]:\n",
    "        acc += 1\n",
    "        \n",
    "print(acc/10)"
   ]
  },
  {
   "cell_type": "code",
   "execution_count": 74,
   "metadata": {},
   "outputs": [
    {
     "name": "stdout",
     "output_type": "stream",
     "text": [
      "(784, 784)\n",
      "(784, 30)\n",
      "(6000, 30)\n",
      "(10, 600, 30)\n",
      "88.4\n"
     ]
    }
   ],
   "source": [
    "# Print accuracy using Bayesian pairwise majority voting method\n",
    "\n",
    "cova = np.cov(np.transpose(train_data))# because we want (600,784)\n",
    "eigval,eigvec = np.linalg.eig(cova)\n",
    "print(eigvec.shape)\n",
    "\n",
    "newcova = eigvec[:, :30] #784x25\n",
    "print(newcova.shape)\n",
    "\n",
    "newtest = test_data.dot(newcova)#1000x25\n",
    "newtrain = train_data.dot(newcova)#6000x25\n",
    "print(newtrain.shape)\n",
    "\n",
    "finaldata = []\n",
    "length = len(train_labels)\n",
    "for j in range(10):\n",
    "    indices = []\n",
    "    data = []\n",
    "    for i in range(length):\n",
    "        if(train_labels[i] == j):\n",
    "            indices.append(i)\n",
    "    for i in indices:\n",
    "        data.append(newtrain[i])\n",
    "    finaldata.append(data)\n",
    "print(np.asarray(finaldata).shape)#10x600x25\n",
    "\n",
    "allmeans = []\n",
    "allinverse = []\n",
    "\n",
    "for i in finaldata:\n",
    "    i = np.array(i)#600x25\n",
    "    means = np.mean(i, axis = 0)#25x1\n",
    "    allmeans.append(means)\n",
    "    for j in finaldata:\n",
    "        j = np.array(j)#converting to numpy array\n",
    "        cova1 = np.cov(np.transpose(i))\n",
    "        cova2 = np.cov(np.transpose(j))\n",
    "        cova = (cova1+cova2)/2\n",
    "        inverse = np.linalg.inv(cova)\n",
    "        allinverse.append(inverse)\n",
    "    \n",
    "acc = 0\n",
    "length = len(newtest)\n",
    "for i in range(length):#going through every test data\n",
    "    cur_testdata = newtest[i]\n",
    "    results = np.zeros(10)\n",
    "    \n",
    "    length2 = len(finaldata)\n",
    "    for j in range(length2):\n",
    "        x_minus_mu1 = cur_testdata - allmeans[j]\n",
    "        for k in range(length2):\n",
    "            if(j == k):\n",
    "                continue;\n",
    "            x_minus_mu2 = cur_testdata - allmeans[k]\n",
    "            exp_term1 = np.linalg.multi_dot([x_minus_mu1.T, allinverse[10*j + k], x_minus_mu1])\n",
    "            exp_term2 = np.linalg.multi_dot([x_minus_mu2.T, allinverse[10*j + k], x_minus_mu2])\n",
    "            \n",
    "            if exp_term1 < exp_term2:\n",
    "                results[j]+=1\n",
    "            else:\n",
    "                results[k]+=1\n",
    "    PM_answer = np.argmax(results)\n",
    "    if(PM_answer)==test_labels[i]:\n",
    "        acc += 1\n",
    "        \n",
    "print(acc/10)"
   ]
  },
  {
   "cell_type": "code",
   "execution_count": 37,
   "metadata": {},
   "outputs": [
    {
     "name": "stdout",
     "output_type": "stream",
     "text": [
      "(6000, 30)\n",
      "(10, 600, 30)\n",
      "75.3\n"
     ]
    }
   ],
   "source": [
    "# Print accuracy using Simple Perpendicular Bisector majority voting method\n",
    "\n",
    "cova = np.cov(np.transpose(train_data))# because we want (600,784)\n",
    "eigval,eigvec = np.linalg.eig(cova)\n",
    "# print(eigvec.shape)\n",
    "\n",
    "newcova = eigvec[:, :30] #784x25\n",
    "# print(newcova.shape)\n",
    "\n",
    "newtest = test_data.dot(newcova)#1000x25\n",
    "newtrain = train_data.dot(newcova)#6000x25\n",
    "print(newtrain.shape)\n",
    "\n",
    "finaldata = []\n",
    "length = len(train_labels)\n",
    "for j in range(10):\n",
    "    indices = []\n",
    "    data = []\n",
    "    for i in range(length):\n",
    "        if(train_labels[i] == j):\n",
    "            indices.append(i)\n",
    "    for i in indices:\n",
    "        data.append(newtrain[i])\n",
    "    finaldata.append(data)\n",
    "    \n",
    "print(np.asarray(finaldata).shape)#10x600x25\n",
    "\n",
    "allmeans = []\n",
    "\n",
    "for i in finaldata:\n",
    "    i = np.array(i)#600x25\n",
    "    means = np.mean(i, axis = 0)#25x1\n",
    "    allmeans.append(means)\n",
    "\n",
    "# print(newtest[1].shape)\n",
    "acc = 0\n",
    "length = len(newtest)\n",
    "for i in range(length):#going through every test data\n",
    "    cur_testdata = newtest[i]  \n",
    "    results = []\n",
    "    length2 = len(finaldata)\n",
    "    for j in range(length2):\n",
    "        final_term = np.linalg.norm(cur_testdata - allmeans[j])\n",
    "        results.append(final_term)\n",
    "    \n",
    "    PB_answer = np.argmin(results)\n",
    "    if(PB_answer)==test_labels[i]:\n",
    "        acc += 1\n",
    "        \n",
    "print(acc/10)"
   ]
  },
  {
   "cell_type": "markdown",
   "metadata": {
    "editable": false
   },
   "source": [
    "### 1.3.3 Question 4\n",
    "Compare performances and salient observations"
   ]
  },
  {
   "cell_type": "markdown",
   "metadata": {},
   "source": [
    "94.8 \n",
    "88.4\n",
    "75.3\n",
    "- In MAP and MLE, we use a multivariate gaussian distrubution which is very accurate, and hence the accuracy is high. It comes out to be 94.8%. \n",
    "- The accuracy for both, MAP and MLE, turn out to be equal because the apriori probability in MAP taken is = 0.1, as the classes occur uniformly in the data set. (Explained at the starting of the code)\n",
    "- In Pairwise voting method, we compute mahalonobis distance as our distance metric, which is not as accurate, but defintiely more accurate than euclidian distance. The accuracy comes out to be 88.4. We assume that the variance of both the distributions are equal. which is a good enough approximation as the decision boundary is now a line (in place of a quadratic curve).\n",
    "- And then in perpendicular bisector, we use an extremely rough estimate, which results in low accuracy of 75.3% We calculate euclidian distance as our distance metric. "
   ]
  },
  {
   "cell_type": "markdown",
   "metadata": {
    "editable": false
   },
   "source": [
    "## 1.3.4 Nearest Neighbour based Tasks and Design\n",
    "---\n",
    "### 1.3.4 Question 1 : NN Classification with various K\n",
    "Implement a KNN classifier and print accuracies on the test set with K=1,3,7"
   ]
  },
  {
   "cell_type": "code",
   "execution_count": 62,
   "metadata": {},
   "outputs": [
    {
     "name": "stdout",
     "output_type": "stream",
     "text": [
      "90.7\n",
      "91.6\n",
      "91.6\n"
     ]
    }
   ],
   "source": [
    "# Your code here\n",
    "# Print accuracies with K = 1, 3, 7\n",
    "arr = [1,3,7]\n",
    "\n",
    "x1 = np.square(train_data)\n",
    "y1 = x1.sum(axis=1)\n",
    "\n",
    "x2 = np.square(test_data)\n",
    "y2 = x2.sum(axis=1)\n",
    "\n",
    "total = y1 + y2[:,np.newaxis]#1000x6000\n",
    "diff = 2 * np.dot(train_data, test_data.T)#6000x1000\n",
    "mat = total - diff.T # 1000x6000\n",
    "# print(mat.shape)\n",
    "\n",
    "mat2 = []\n",
    "for row in mat:\n",
    "    mat2.append(np.argsort(row))\n",
    "\n",
    "# mat3 = []\n",
    "# mat2 = ([3,1,2], [5,4,3], [98, 45, 67])\n",
    "# for i in mat2:\n",
    "#     mat3.append(np.argsort(i))\n",
    "\n",
    "for i in arr:\n",
    "    cor = 0\n",
    "    for ind2,j in enumerate(mat2):#Getting top k indices\n",
    "        vals=[]\n",
    "        arr2=[]\n",
    "        s1 = j[:i]\n",
    "        for k in s1:\n",
    "            vals.append(train_labels[k])\n",
    "        \n",
    "        (v1,c1) = np.unique(vals,return_counts = True)\n",
    "        ind = np.argmax(c1)\n",
    "        v1 = v1[ind]\n",
    "        if (v1 == test_labels[ind2]):\n",
    "            cor+=1\n",
    "    print(cor/10)"
   ]
  },
  {
   "cell_type": "markdown",
   "metadata": {
    "editable": false
   },
   "source": [
    "### 1.3.4 Question 1 continued\n",
    "- Why / why not are the accuracies the same?\n",
    "- How do we identify the best K? Suggest a computational procedure with a logical explanation."
   ]
  },
  {
   "cell_type": "markdown",
   "metadata": {},
   "source": [
    "### answer 1: comparing the accuracies\n",
    "- The accuracies are not the same. This is because if there are some values nearby that have the same value, there could also be those that are farther away and have different values from the ones nearby! Moreover, these values that are farther away might be more in frequency as well, resulting in different answers for different k's. For instance if k=1 gives the test label as 5, but if k=5 gives, 5, 5, 7, 7, 7. Then in this case, output is 7 and not 5. \n",
    "- A large k value would include points from different classes\n",
    "- Larger the k, more is the complexity, but then it will me more accurate also. For smaller k, noise cann affect accuracy badly.\n",
    "\n",
    "### answer 2: getting the best 'k'\n",
    "- One way to get the best value of k is that we will plot a graph for all values of k and then choose optimal k. For example: we see that k = 5 is optimal after plotting all graphs. \n",
    "- We will take a small chunk from the test data and apply the algorithm with different values of k. Whichever gives the best accuracy can be used on the remaining test data. "
   ]
  },
  {
   "cell_type": "markdown",
   "metadata": {
    "editable": false
   },
   "source": [
    "### 1.3.4 Question 2 :  Reverse NN based outlier detection\n",
    "A sample can be thought of as an outlier is it is NOT in the nearest neighbour set of anybody else. Expand this idea into an algorithm."
   ]
  },
  {
   "cell_type": "code",
   "execution_count": 63,
   "metadata": {
    "editable": false
   },
   "outputs": [
    {
     "name": "stdout",
     "output_type": "stream",
     "text": [
      "(20, 784)\n"
     ]
    }
   ],
   "source": [
    "# This cell reads mixed data containing both MNIST digits and English characters.\n",
    "# The labels for this mixed data are random and are hence ignored.\n",
    "mixed_data, _ = read_data(\"outliers.csv\")\n",
    "print(mixed_data.shape)"
   ]
  },
  {
   "cell_type": "code",
   "execution_count": 64,
   "metadata": {},
   "outputs": [
    {
     "name": "stdout",
     "output_type": "stream",
     "text": [
      "(6020, 6020)\n",
      "5958\n",
      "{769, 6018, 4355, 1030, 2823, 3590, 5000, 1294, 1682, 916, 1301, 1302, 1047, 4502, 5524, 4634, 539, 4762, 5404, 670, 4127, 3106, 5029, 1448, 4265, 5418, 5673, 5808, 4279, 4792, 318, 704, 4802, 1091, 3268, 4164, 2246, 1097, 2761, 1872, 1875, 340, 854, 5464, 4058, 2268, 2781, 1758, 4066, 995, 1509, 2661, 5863, 4842, 5873, 2034, 2803, 6006, 1402, 3580, 1405, 3582}\n"
     ]
    }
   ],
   "source": [
    "# This cell reads mixed data containing both MNIST digits and English characters.\n",
    "# The labels for this mixed data are random and are hence ignored.\n",
    "import numpy as np\n",
    "final_data = np.concatenate((train_data, mixed_data))\n",
    "# arr = [1,3,7]\n",
    "k=20\n",
    "\n",
    "x1 = np.square(final_data)\n",
    "y1 = x1.sum(axis=1)\n",
    "\n",
    "total = y1 + y1[:,np.newaxis]#1000x6020\n",
    "diff = 2 * np.dot(final_data, final_data.T)#6020x1000\n",
    "mat = total - diff.T # 1000x6020\n",
    "print(mat.shape)\n",
    "\n",
    "mat2 = []\n",
    "for row in mat:\n",
    "    mat2.append(np.argsort(row))\n",
    "\n",
    "corr = set()\n",
    "allvals = set()\n",
    "for i in range(0, 6020):\n",
    "    allvals.add(i)\n",
    "\n",
    "for ind2,j in enumerate(mat2):#Getting top 15 indices\n",
    "    s1 = j[:15]\n",
    "    for k in s1:\n",
    "        if(k!=ind2):\n",
    "            corr.add(k)\n",
    "            \n",
    "print(len(corr))\n",
    "diff = allvals - corr\n",
    "print(diff)"
   ]
  },
  {
   "cell_type": "markdown",
   "metadata": {
    "editable": false
   },
   "source": [
    "### 1.3.4 Question 3 : NN for regression\n",
    "Assume that each classID in the train set corresponds to a neatness score as:\n",
    "$$ neatness = \\frac{classID}{10} $$\n",
    "\n",
    "---\n",
    "Assume we had to predict the neatness score for each test sample using NN based techiniques on the train set. Describe the algorithm."
   ]
  },
  {
   "cell_type": "markdown",
   "metadata": {},
   "source": [
    "- Each sample has a variable 'neatness' given by classID/10, that needs to be predicted. Obviously, a point that is nearer to the sample should have more weight and a point farther away should have less wieght. \n",
    "- So we can have some sort of an inverse weighted value, for eg, 1/d1 + 1/d2 + .... + 1/dk, which can be used to get the sample's neatness. \n",
    "- The implementation is given below. However, due to some error, my multiplication is not happening. I'm running out of time to debug, so submitting it how it is as of now. "
   ]
  },
  {
   "cell_type": "markdown",
   "metadata": {
    "editable": false
   },
   "source": [
    "### 1.3.4 Question 3 continued\n",
    "Validate your algorithm on the test set. This code should print mean absolute error on the test set, using the train set for NN based regression."
   ]
  },
  {
   "cell_type": "code",
   "execution_count": 61,
   "metadata": {},
   "outputs": [
    {
     "ename": "ValueError",
     "evalue": "shapes (1000,) and (5,) not aligned: 1000 (dim 0) != 5 (dim 0)",
     "output_type": "error",
     "traceback": [
      "\u001b[0;31m---------------------------------------------------------------------------\u001b[0m",
      "\u001b[0;31mValueError\u001b[0m                                Traceback (most recent call last)",
      "\u001b[0;32m<ipython-input-61-876f3bef8c24>\u001b[0m in \u001b[0;36m<module>\u001b[0;34m\u001b[0m\n\u001b[1;32m     27\u001b[0m     \u001b[0mweightsum\u001b[0m \u001b[0;34m=\u001b[0m \u001b[0mnp\u001b[0m\u001b[0;34m.\u001b[0m\u001b[0msum\u001b[0m\u001b[0;34m(\u001b[0m\u001b[0mweights\u001b[0m\u001b[0;34m,\u001b[0m \u001b[0maxis\u001b[0m\u001b[0;34m=\u001b[0m\u001b[0;36m1\u001b[0m\u001b[0;34m)\u001b[0m\u001b[0;31m#1000x1\u001b[0m\u001b[0;34m\u001b[0m\u001b[0;34m\u001b[0m\u001b[0m\n\u001b[1;32m     28\u001b[0m     \u001b[0mvals\u001b[0m \u001b[0;34m=\u001b[0m \u001b[0mnp\u001b[0m\u001b[0;34m.\u001b[0m\u001b[0marray\u001b[0m\u001b[0;34m(\u001b[0m\u001b[0mvals\u001b[0m\u001b[0;34m)\u001b[0m\u001b[0;34m\u001b[0m\u001b[0;34m\u001b[0m\u001b[0m\n\u001b[0;32m---> 29\u001b[0;31m     \u001b[0mval\u001b[0m \u001b[0;34m=\u001b[0m \u001b[0mnp\u001b[0m\u001b[0;34m.\u001b[0m\u001b[0mmatmul\u001b[0m\u001b[0;34m(\u001b[0m\u001b[0mweightsum\u001b[0m\u001b[0;34m,\u001b[0m \u001b[0mvals\u001b[0m\u001b[0;34m.\u001b[0m\u001b[0mT\u001b[0m\u001b[0;34m)\u001b[0m\u001b[0;34m\u001b[0m\u001b[0;34m\u001b[0m\u001b[0m\n\u001b[0m\u001b[1;32m     30\u001b[0m \u001b[0;34m\u001b[0m\u001b[0m\n\u001b[1;32m     31\u001b[0m     \u001b[0mscore\u001b[0m \u001b[0;34m=\u001b[0m \u001b[0mnp\u001b[0m\u001b[0;34m.\u001b[0m\u001b[0mdivide\u001b[0m\u001b[0;34m(\u001b[0m\u001b[0mval\u001b[0m \u001b[0;34m-\u001b[0m \u001b[0mtest_labels\u001b[0m\u001b[0;34m,\u001b[0m \u001b[0;36m10\u001b[0m\u001b[0;34m)\u001b[0m\u001b[0;34m\u001b[0m\u001b[0;34m\u001b[0m\u001b[0m\n",
      "\u001b[0;31mValueError\u001b[0m: shapes (1000,) and (5,) not aligned: 1000 (dim 0) != 5 (dim 0)"
     ]
    }
   ],
   "source": [
    "# Your code here\n",
    "K = 5\n",
    "\n",
    "x1 = np.square(train_data)\n",
    "y1 = x1.sum(axis=1)\n",
    "\n",
    "x2 = np.square(test_data)\n",
    "y2 = x2.sum(axis=1)\n",
    "\n",
    "total = y1 + y2[:,np.newaxis] #1000x6000\n",
    "diff = 2 * np.dot(train_data, test_data.T) #6000x1000\n",
    "mat = total - diff.T # 1000x6000\n",
    "\n",
    "#sorting it according to indices\n",
    "mat2 = []\n",
    "for row in mat:\n",
    "    mat2.append(np.argsort(row))\n",
    "    \n",
    "mat.sort(axis = 1)\n",
    "cor = 0\n",
    "for ind2,j in enumerate(mat2): \n",
    "    vals = []\n",
    "    s1 = j[:K] #Getting top k indices\n",
    "    for k in s1:\n",
    "        vals.append(train_labels[k])\n",
    "    weights = np.divide(1, mat[:,:i])\n",
    "    weightsum = np.sum(weights, axis=1)#1000x1\n",
    "    vals = np.array(vals)\n",
    "    val = np.matmul(weightsum, vals.T)\n",
    "    \n",
    "    score = np.divide(val - test_labels, 10)\n",
    "    print(score)\n",
    "    \n",
    "    \n"
   ]
  },
  {
   "cell_type": "markdown",
   "metadata": {
    "editable": false
   },
   "source": [
    "---\n",
    "# FOLLOW THE SUBMISSION INSTRUCTIONS\n",
    "---"
   ]
  }
 ],
 "metadata": {
  "kernelspec": {
   "display_name": "Python 3",
   "language": "python",
   "name": "python3"
  },
  "language_info": {
   "codemirror_mode": {
    "name": "ipython",
    "version": 3
   },
   "file_extension": ".py",
   "mimetype": "text/x-python",
   "name": "python",
   "nbconvert_exporter": "python",
   "pygments_lexer": "ipython3",
   "version": "3.7.3"
  }
 },
 "nbformat": 4,
 "nbformat_minor": 2
}
