{
 "cells": [
  {
   "cell_type": "markdown",
   "metadata": {
    "editable": false
   },
   "source": [
    "# Assignment 1\n",
    "This jupyter notebook is meant to be used in conjunction with the full questions in the assignment pdf.\n",
    "\n",
    "## Instructions\n",
    "- Write your code and analyses in the indicated cells.\n",
    "- Ensure that this notebook runs without errors when the cells are run in sequence.\n",
    "- Do not attempt to change the contents of the other cells.\n",
    "\n",
    "## Submission\n",
    "- Ensure that this notebook runs without errors when the cells are run in sequence.\n",
    "- Rename the notebook to `<roll_number>.ipynb` and submit ONLY the notebook file on moodle."
   ]
  },
  {
   "cell_type": "markdown",
   "metadata": {
    "editable": false
   },
   "source": [
    "### Environment setup\n",
    "\n",
    "The following code reads the train and test data (provided along with this template) and outputs the data and labels as numpy arrays. Use these variables in your code.\n",
    "\n",
    "---\n",
    "#### Note on conventions\n",
    "In mathematical notation, the convention is tha data matrices are column-indexed, which means that a input data $x$ has shape $[d, n]$, where $d$ is the number of dimensions and $n$ is the number of data points, respectively.\n",
    "\n",
    "Programming languages have a slightly different convention. Data matrices are of shape $[n, d]$. This has the benefit of being able to access the ith data point as a simple `data[i]`.\n",
    "\n",
    "What this means is that you need to be careful about your handling of matrix dimensions. For example, while the covariance matrix (of shape $[d,d]$) for input data $x$ is calculated as $(x-u)(x-u)^T$, while programming you would do $(x-u)^T(x-u)$ to get the correct output shapes."
   ]
  },
  {
   "cell_type": "code",
   "execution_count": 2,
   "metadata": {
    "editable": false,
    "scrolled": true
   },
   "outputs": [
    {
     "name": "stdout",
     "output_type": "stream",
     "text": [
      "(6000, 784) (1000, 784)\n",
      "(6000,) (1000,)\n"
     ]
    }
   ],
   "source": [
    "from __future__ import print_function\n",
    "\n",
    "import numpy as np\n",
    "import matplotlib.pyplot as plt\n",
    "\n",
    "def read_data(filename):\n",
    "    with open(filename, 'r') as f:\n",
    "        lines = f.readlines()\n",
    "    \n",
    "    num_points = len(lines)\n",
    "    dim_points = 28 * 28\n",
    "    data = np.empty((num_points, dim_points))\n",
    "    labels = np.empty(num_points)\n",
    "    \n",
    "    for ind, line in enumerate(lines):\n",
    "        num = line.split(',')\n",
    "        labels[ind] = int(num[0])\n",
    "        data[ind] = [ int(x) for x in num[1:] ]\n",
    "        \n",
    "    return (data, labels)\n",
    "\n",
    "train_data, train_labels = read_data(\"sample_train.csv\")\n",
    "test_data, test_labels = read_data(\"sample_test.csv\")\n",
    "print(train_data.shape, test_data.shape)\n",
    "print(train_labels.shape, test_labels.shape)"
   ]
  },
  {
   "cell_type": "markdown",
   "metadata": {
    "editable": false
   },
   "source": [
    "# Questions\n",
    "---\n",
    "## 1.3.1 Representation\n",
    "The next code cells, when run, should plot the eigen value spectrum of the covariance matrices corresponding to the mentioned samples. Normalize the eigen value spectrum and only show the first 100 values."
   ]
  },
  {
   "cell_type": "code",
   "execution_count": 3,
   "metadata": {},
   "outputs": [
    {
     "data": {
      "text/plain": [
       "[<matplotlib.lines.Line2D at 0x11a6494a8>]"
      ]
     },
     "execution_count": 3,
     "metadata": {},
     "output_type": "execute_result"
    },
    {
     "data": {
      "image/png": "[encoded data removed]",
      "text/plain": [
       "<Figure size 432x288 with 1 Axes>"
      ]
     },
     "metadata": {
      "needs_background": "light"
     },
     "output_type": "display_data"
    }
   ],
   "source": [
    "# Samples corresponding to the last digit of your roll number (plot a)\n",
    "indices = []\n",
    "length = len(train_labels)\n",
    "for i in range(length):\n",
    "    if(train_labels[i] == 9):\n",
    "        indices.append(i)\n",
    "# for i in indices:\n",
    "#     print (i)\n",
    "data = []\n",
    "for i in indices:\n",
    "    data.append(train_data[i])\n",
    "# print(len(data))\n",
    "\n",
    "cova = np.cov(np.transpose(data))#because we want 600,784)\n",
    "# print (cova.shape)\n",
    "\n",
    "eigval,eigvec = np.linalg.eig(cova)\n",
    "eigval=eigval.real\n",
    "# print(eigvec.shape)\n",
    "mean = np.mean(eigval)\n",
    "std = np.std(eigval)\n",
    "eigval = (eigval-mean)/std\n",
    "\n",
    "# print(eigval);\n",
    "np.sort(eigval)\n",
    "xaxis=[]\n",
    "for i in range(1,101):\n",
    "    xaxis.append(i)\n",
    "plt.scatter(xaxis,eigval[:100])\n",
    "plt.plot(eigval[:100])\n",
    "\n",
    "# print(eigval.shape)\n",
    "\n",
    "\n",
    "\n",
    "        \n",
    "        \n"
   ]
  },
  {
   "cell_type": "code",
   "execution_count": 4,
   "metadata": {},
   "outputs": [
    {
     "data": {
      "text/plain": [
       "[<matplotlib.lines.Line2D at 0x11a6f3908>]"
      ]
     },
     "execution_count": 4,
     "metadata": {},
     "output_type": "execute_result"
    },
    {
     "data": {
      "image/png": "[encoded data removed]",
      "text/plain": [
       "<Figure size 432x288 with 1 Axes>"
      ]
     },
     "metadata": {
      "needs_background": "light"
     },
     "output_type": "display_data"
    }
   ],
   "source": [
    "# Samples corresponding to the last digit of (your roll number + 1) % 10 (plot b)\n",
    "# Samples corresponding to the last digit of your roll number (plot a)\n",
    "indices = []\n",
    "length = len(train_labels)\n",
    "for i in range(length):\n",
    "    if(train_labels[i] == 0):\n",
    "        indices.append(i)\n",
    "        \n",
    "data = []\n",
    "for i in indices:\n",
    "    data.append(train_data[i])\n",
    "\n",
    "cova = np.cov(np.transpose(data))# because we want (600,784)\n",
    "\n",
    "eigval,eigvec = np.linalg.eig(cova)\n",
    "eigval=eigval.real\n",
    "mean = np.mean(eigval)\n",
    "std = np.std(eigval)\n",
    "eigval = (eigval-mean)/std\n",
    "\n",
    "np.sort(eigval)\n",
    "xaxis=[]\n",
    "for i in range(1,101):\n",
    "    xaxis.append(i)\n",
    "plt.scatter(xaxis,eigval[:100])\n",
    "plt.plot(eigval[:100])"
   ]
  },
  {
   "cell_type": "code",
   "execution_count": 5,
   "metadata": {},
   "outputs": [
    {
     "name": "stderr",
     "output_type": "stream",
     "text": [
      "/usr/local/lib/python3.7/site-packages/numpy/core/numeric.py:553: ComplexWarning: Casting complex values to real discards the imaginary part\n",
      "  return array(a, dtype, copy=False, order=order, subok=True)\n",
      "/usr/local/lib/python3.7/site-packages/numpy/core/numeric.py:501: ComplexWarning: Casting complex values to real discards the imaginary part\n",
      "  return array(a, dtype, copy=False, order=order)\n"
     ]
    },
    {
     "data": {
      "text/plain": [
       "[<matplotlib.lines.Line2D at 0x11b966eb8>]"
      ]
     },
     "execution_count": 5,
     "metadata": {},
     "output_type": "execute_result"
    },
    {
     "data": {
      "image/png": "[encoded data removed]",
      "text/plain": [
       "<Figure size 432x288 with 1 Axes>"
      ]
     },
     "metadata": {
      "needs_background": "light"
     },
     "output_type": "display_data"
    }
   ],
   "source": [
    "# All training data (plot c)\n",
    "\n",
    "cova = np.cov(np.transpose(train_data))# because we want (600,784)\n",
    "\n",
    "eigval,eigvec = np.linalg.eig(cova)\n",
    "mean = np.mean(eigval)\n",
    "std = np.std(eigval)\n",
    "eigval = (eigval-mean)/std\n",
    "\n",
    "np.sort(eigval)\n",
    "xaxis=[]\n",
    "for i in range(1,101):\n",
    "    xaxis.append(i)\n",
    "plt.scatter(xaxis,eigval[:100])\n",
    "plt.plot(eigval[:100])"
   ]
  },
  {
   "cell_type": "code",
   "execution_count": 6,
   "metadata": {},
   "outputs": [
    {
     "data": {
      "text/plain": [
       "[<matplotlib.lines.Line2D at 0x11f078710>]"
      ]
     },
     "execution_count": 6,
     "metadata": {},
     "output_type": "execute_result"
    },
    {
     "data": {
      "image/png": "[encoded data removed]",
      "text/plain": [
       "<Figure size 432x288 with 1 Axes>"
      ]
     },
     "metadata": {
      "needs_background": "light"
     },
     "output_type": "display_data"
    }
   ],
   "source": [
    "# Randomly selected 50% of the training data (plot d)\n",
    "import random\n",
    "\n",
    "indices = []\n",
    "ctr = 0\n",
    "while (ctr<3000):\n",
    "    temp = random.randint(0, 5999)\n",
    "    if(temp not in indices):\n",
    "        indices.append(temp)\n",
    "        ctr = ctr+1\n",
    "        \n",
    "data = []\n",
    "for i in indices:\n",
    "    data.append(train_data[i])\n",
    "\n",
    "cova = np.cov(np.transpose(data))# because we want (600,784)\n",
    "\n",
    "eigval,eigvec = np.linalg.eig(cova)\n",
    "mean = np.mean(eigval)\n",
    "std = np.std(eigval)\n",
    "eigval = (eigval-mean)/std\n",
    "\n",
    "np.sort(eigval)\n",
    "xaxis=[]\n",
    "for i in range(1,101):\n",
    "    xaxis.append(i)\n",
    "plt.scatter(xaxis,eigval[:100])\n",
    "plt.plot(eigval[:100])"
   ]
  },
  {
   "cell_type": "markdown",
   "metadata": {
    "editable": false
   },
   "source": [
    "### 1.3.1 Question 1\n",
    "- Are plots a and b different? Why?\n",
    "- Are plots b and c different? Why?\n",
    "- What are the approximate ranks of each plot?"
   ]
  },
  {
   "cell_type": "markdown",
   "metadata": {},
   "source": [
    "---\n",
    "### Plots a and b\n",
    "\n",
    "### Plots b and c\n",
    "\n",
    "### Approximate Ranks\n",
    "\n",
    "---"
   ]
  },
  {
   "cell_type": "markdown",
   "metadata": {
    "editable": false
   },
   "source": [
    "### 1.3.1 Question 2\n",
    "- How many possible images could there be?\n",
    "- What percentage is accessible to us as MNIST data?\n",
    "- If we had acces to all the data, how would the eigen value spectrum of the covariance matrix look?"
   ]
  },
  {
   "cell_type": "markdown",
   "metadata": {},
   "source": [
    "### Answers\n",
    "\n",
    "- Possible Images:\n",
    "- Accessible\n",
    "- If"
   ]
  },
  {
   "cell_type": "markdown",
   "metadata": {
    "editable": false
   },
   "source": [
    "## 1.3.2 Linear Transformation\n",
    "---\n",
    "### 1.3.2 Question 1\n",
    "How does the eigen spectrum change if the original data was multiplied by an orthonormal matrix? Answer analytically and then also validate experimentally."
   ]
  },
  {
   "cell_type": "markdown",
   "metadata": {},
   "source": [
    "---\n",
    "Analytical answer here (double click to edit)\n",
    "\n",
    "---"
   ]
  },
  {
   "cell_type": "code",
   "execution_count": 7,
   "metadata": {},
   "outputs": [
    {
     "name": "stdout",
     "output_type": "stream",
     "text": [
      "(784, 784)\n",
      "(784, 6000)\n"
     ]
    },
    {
     "data": {
      "text/plain": [
       "[<matplotlib.lines.Line2D at 0x11f135828>]"
      ]
     },
     "execution_count": 7,
     "metadata": {},
     "output_type": "execute_result"
    },
    {
     "data": {
      "image/png": "[encoded data removed]",
      "text/plain": [
       "<Figure size 432x288 with 1 Axes>"
      ]
     },
     "metadata": {
      "needs_background": "light"
     },
     "output_type": "display_data"
    }
   ],
   "source": [
    "# Experimental validation here.\n",
    "# Multiply your data (train_data) with an orthonormal matrix and plot the\n",
    "# eigen value specturm of the new covariance matrix.\n",
    "\n",
    "# code goes here\n",
    "n = 784\n",
    "H = np.random.rand(n, n)\n",
    "u, s, v = np.linalg.svd(H, full_matrices=False)\n",
    "print(u.shape)\n",
    "new = np.matmul(u, train_data.T)\n",
    "print(new.shape)\n",
    "\n",
    "cova = np.cov(np.transpose(new))# because we want (600,784)\n",
    "\n",
    "eigval,eigvec = np.linalg.eig(cova)\n",
    "mean = np.mean(eigval)\n",
    "std = np.std(eigval)\n",
    "eigval = (eigval-mean)/std\n",
    "\n",
    "np.sort(eigval)\n",
    "xaxis=[]\n",
    "for i in range(1,101):\n",
    "    xaxis.append(i)\n",
    "plt.scatter(xaxis,eigval[:100])\n",
    "plt.plot(eigval[:100])"
   ]
  },
  {
   "cell_type": "markdown",
   "metadata": {
    "editable": false
   },
   "source": [
    "### 1.3.2 Question 2\n",
    "If  samples  were  multiplied  by  784 × 784  matrix  of rank 1 or 2, (rank deficient matrices), how will the eigen spectrum look like?"
   ]
  },
  {
   "cell_type": "markdown",
   "metadata": {},
   "source": [
    "---\n",
    "Your answer here (double click to edit)\n",
    "\n",
    "---"
   ]
  },
  {
   "cell_type": "markdown",
   "metadata": {
    "editable": false
   },
   "source": [
    "### 1.3.2 Question 3\n",
    "Project the original data into the first and second eigenvectors and plot in 2D"
   ]
  },
  {
   "cell_type": "code",
   "execution_count": 8,
   "metadata": {},
   "outputs": [
    {
     "name": "stdout",
     "output_type": "stream",
     "text": [
      "(6000, 784)\n",
      "(784, 784)\n"
     ]
    }
   ],
   "source": [
    "# Plotting code here\n",
    "print(train_data.shape)\n",
    "cova = np.cov(np.transpose(train_data))\n",
    "eigval, eigvec =np.linalg.eig(cova)\n",
    "print(eigvec.shape)"
   ]
  },
  {
   "cell_type": "markdown",
   "metadata": {
    "editable": false
   },
   "source": [
    "## 1.3.3 Probabilistic View\n",
    "---\n",
    "In this section you will classify the test set by fitting multivariate gaussians on the train set, with different choices for decision boundaries. On running, your code should print the accuracy on your test set."
   ]
  },
  {
   "cell_type": "code",
   "execution_count": 33,
   "metadata": {},
   "outputs": [
    {
     "name": "stdout",
     "output_type": "stream",
     "text": [
      "(784, 784)\n",
      "(784, 30)\n",
      "(6000, 30)\n",
      "(10, 600, 30)\n",
      "94.8\n"
     ]
    }
   ],
   "source": [
    "# Print accuracy on the test set using MLE\n",
    "cova = np.cov(np.transpose(train_data))# because we want (600,784)\n",
    "eigval,eigvec = np.linalg.eig(cova)\n",
    "print(eigvec.shape)\n",
    "\n",
    "newcova = eigvec[:, :30] #784x25\n",
    "print(newcova.shape)\n",
    "\n",
    "newtest = test_data.dot(newcova)#1000x25\n",
    "newtrain = train_data.dot(newcova)#6000x25\n",
    "print(newtrain.shape)\n",
    "\n",
    "finaldata = []\n",
    "length = len(train_labels)\n",
    "for j in range(10):\n",
    "    indices = []\n",
    "    data = []\n",
    "    for i in range(length):\n",
    "        if(train_labels[i] == j):\n",
    "            indices.append(i)\n",
    "    for i in indices:\n",
    "        data.append(newtrain[i])\n",
    "    finaldata.append(data)\n",
    "print(np.asarray(finaldata).shape)#10x600x25\n",
    "\n",
    "allmeans = []\n",
    "allinverse = []\n",
    "allconsts = []\n",
    "\n",
    "for i in finaldata:\n",
    "    i = np.array(i)#600x25\n",
    "    cova = np.cov(np.transpose(i))#25x25\n",
    "    inverse = np.linalg.inv(cova)#25x25\n",
    "    deter = np.linalg.det(cova)\n",
    "    means = np.mean(i, axis = 0)#25x1\n",
    "    const_term = np.divide(1, np.power(2*np.pi,(0.5*30)) * np.power(deter, 0.5))\n",
    "    allinverse.append(inverse)\n",
    "    allmeans.append(means)\n",
    "    allconsts.append(const_term)\n",
    "    \n",
    "acc = 0\n",
    "length = len(newtest)\n",
    "for i in range(length):#going through every test data\n",
    "    cur_testdata = newtest[i]\n",
    "    results = []\n",
    "    length2 = len(finaldata)\n",
    "    for j in range(length2):\n",
    "        x_minus_mu = cur_testdata - allmeans[j]\n",
    "        exp_term = -0.5 * np.linalg.multi_dot([x_minus_mu.T, allinverse[j], x_minus_mu])\n",
    "        final_term = np.exp(exp_term) * allconsts[j]\n",
    "        results.append(final_term)\n",
    "    \n",
    "    MLE_answer = np.argmax(results)\n",
    "    if(MLE_answer)==test_labels[i]:\n",
    "        acc += 1\n",
    "        \n",
    "print(acc/10)\n",
    "        \n",
    "        \n",
    "        \n",
    "        \n",
    "    \n",
    "    \n",
    "    \n",
    "    \n",
    "    \n",
    "    \n",
    "    \n",
    "\n"
   ]
  },
  {
   "cell_type": "code",
   "execution_count": 44,
   "metadata": {},
   "outputs": [],
   "source": [
    "# Print accuracy on the test set using MAP\n",
    "# (assume a reasonable prior and mention it in the comments)"
   ]
  },
  {
   "cell_type": "code",
   "execution_count": 34,
   "metadata": {},
   "outputs": [],
   "source": [
    "# Print accuracy using Bayesian pairwise majority voting method\n",
    "\n",
    "finaldata = []\n",
    "length = len(train_labels)\n",
    "for j in range(10):\n",
    "    indices = []\n",
    "    data = []\n",
    "    for i in range(length):\n",
    "        if(train_labels[i] == j):\n",
    "            indices.append(i)\n",
    "    for i in indices:\n",
    "        data.append(newtrain[i])\n",
    "    finaldata.append(data)\n",
    "print(np.asarray(finaldata).shape)#10x600x25\n",
    "\n",
    "allmeans = []\n",
    "\n",
    "for i in finaldata:\n",
    "    i = np.array(i)#600x25\n",
    "    means = np.mean(i, axis = 0)#25x1\n",
    "    allmeans.append(means)\n",
    "    \n",
    "acc = 0\n",
    "length = len(newtest)\n",
    "for i in range(length):#going through every test data\n",
    "    cur_testdata = newtest[i]\n",
    "    results = []\n",
    "    length2 = len(finaldata)\n",
    "    for j in range(length2):\n",
    "        x_minus_mu = cur_testdata - allmeans[j]\n",
    "        exp_term = -0.5 * np.linalg.multi_dot([x_minus_mu.T, allinverse[j], x_minus_mu])\n",
    "        final_term = np.exp(exp_term) * allconsts[j]\n",
    "        results.append(final_term)\n",
    "    \n",
    "    MLE_answer = np.argmax(results)\n",
    "    if(MLE_answer)==test_labels[i]:\n",
    "        acc += 1\n",
    "        \n",
    "print(acc/10)"
   ]
  },
  {
   "cell_type": "code",
   "execution_count": 12,
   "metadata": {},
   "outputs": [],
   "source": [
    "# Print accuracy using Simple Perpendicular Bisector majority voting method\n",
    "\n",
    "finaldata = []\n",
    "length = len(train_labels)\n",
    "for j in range(10):\n",
    "    indices = []\n",
    "    data = []\n",
    "    for i in range(length):\n",
    "        if(train_labels[i] == j):\n",
    "            indices.append(i)\n",
    "    for i in indices:\n",
    "        data.append(newtrain[i])\n",
    "    finaldata.append(data)\n",
    "    \n",
    "print(np.asarray(finaldata).shape)#10x600x25\n",
    "\n",
    "allmeans = []\n",
    "\n",
    "for i in finaldata:\n",
    "    i = np.array(i)#600x25\n",
    "    means = np.mean(i, axis = 0)#25x1\n",
    "    allmeans.append(means)\n",
    "    \n",
    "acc = 0\n",
    "length = len(test_data)\n",
    "for i in range(length):#going through every test data\n",
    "    cur_testdata = test_data[i]\n",
    "    results = []\n",
    "    length2 = len(finaldata)\n",
    "    for j in range(length2):\n",
    "        x_minus_mu = cur_testdata - allmeans[j]\n",
    "        exp_term = -0.5 * np.linalg.multi_dot([x_minus_mu.T, allinverse[j], x_minus_mu])\n",
    "        final_term = np.exp(exp_term) * allconsts[j]\n",
    "        results.append(final_term)\n",
    "    \n",
    "    MLE_answer = np.argmax(results)\n",
    "    if(MLE_answer)==test_labels[i]:\n",
    "        acc += 1\n",
    "        \n",
    "print(acc/10)"
   ]
  },
  {
   "cell_type": "markdown",
   "metadata": {
    "editable": false
   },
   "source": [
    "### 1.3.3 Question 4\n",
    "Compare performances and salient observations"
   ]
  },
  {
   "cell_type": "markdown",
   "metadata": {},
   "source": [
    "---\n",
    "Your analysis here (double click to edit)\n",
    "\n",
    "---"
   ]
  },
  {
   "cell_type": "markdown",
   "metadata": {
    "editable": false
   },
   "source": [
    "## 1.3.4 Nearest Neighbour based Tasks and Design\n",
    "---\n",
    "### 1.3.4 Question 1 : NN Classification with various K\n",
    "Implement a KNN classifier and print accuracies on the test set with K=1,3,7"
   ]
  },
  {
   "cell_type": "code",
   "execution_count": 19,
   "metadata": {},
   "outputs": [],
   "source": [
    "# Your code here\n",
    "# Print accuracies with K = 1, 3, 7\n",
    "karr = [1,3,7]\n",
    "\n",
    "x1 = np.square(train_data)\n",
    "y1 = x1.sum(axis=1)\n",
    "\n",
    "x2 = np.square(test_data)\n",
    "y2 = x2.sum(axis=1)\n",
    "\n",
    "sum = y1 + y2[:,np.newaxis]\n",
    "diff = -2 * np.dot(train_data, test_data.T)\n",
    "\n",
    "# for k in karr:\n",
    "    \n",
    "    "
   ]
  },
  {
   "cell_type": "markdown",
   "metadata": {
    "editable": false
   },
   "source": [
    "### 1.3.4 Question 1 continued\n",
    "- Why / why not are the accuracies the same?\n",
    "- How do we identify the best K? Suggest a computational procedure with a logical explanation."
   ]
  },
  {
   "cell_type": "markdown",
   "metadata": {},
   "source": [
    "---\n",
    "Your analysis here (double click to edit)\n",
    "\n",
    "---"
   ]
  },
  {
   "cell_type": "markdown",
   "metadata": {
    "editable": false
   },
   "source": [
    "### 1.3.4 Question 2 :  Reverse NN based outlier detection\n",
    "A sample can be thought of as an outlier is it is NOT in the nearest neighbour set of anybody else. Expand this idea into an algorithm."
   ]
  },
  {
   "cell_type": "code",
   "execution_count": 13,
   "metadata": {
    "editable": false
   },
   "outputs": [
    {
     "name": "stdout",
     "output_type": "stream",
     "text": [
      "(20, 784)\n"
     ]
    }
   ],
   "source": [
    "# This cell reads mixed data containing both MNIST digits and English characters.\n",
    "# The labels for this mixed data are random and are hence ignored.\n",
    "mixed_data, _ = read_data(\"outliers.csv\")\n",
    "print(mixed_data.shape)"
   ]
  },
  {
   "cell_type": "markdown",
   "metadata": {
    "editable": false
   },
   "source": [
    "### 1.3.4 Question 3 : NN for regression\n",
    "Assume that each classID in the train set corresponds to a neatness score as:\n",
    "$$ neatness = \\frac{classID}{10} $$\n",
    "\n",
    "---\n",
    "Assume we had to predict the neatness score for each test sample using NN based techiniques on the train set. Describe the algorithm."
   ]
  },
  {
   "cell_type": "markdown",
   "metadata": {},
   "source": [
    "---\n",
    "Your algorithm here (double click to edit)\n",
    "\n",
    "---"
   ]
  },
  {
   "cell_type": "markdown",
   "metadata": {
    "editable": false
   },
   "source": [
    "### 1.3.4 Question 3 continued\n",
    "Validate your algorithm on the test set. This code should print mean absolute error on the test set, using the train set for NN based regression."
   ]
  },
  {
   "cell_type": "code",
   "execution_count": 14,
   "metadata": {},
   "outputs": [],
   "source": [
    "# Your code here"
   ]
  },
  {
   "cell_type": "markdown",
   "metadata": {
    "editable": false
   },
   "source": [
    "---\n",
    "# FOLLOW THE SUBMISSION INSTRUCTIONS\n",
    "---"
   ]
  }
 ],
 "metadata": {
  "kernelspec": {
   "display_name": "Python 3",
   "language": "python",
   "name": "python3"
  },
  "language_info": {
   "codemirror_mode": {
    "name": "ipython",
    "version": 3
   },
   "file_extension": ".py",
   "mimetype": "text/x-python",
   "name": "python",
   "nbconvert_exporter": "python",
   "pygments_lexer": "ipython3",
   "version": "3.7.3"
  }
 },
 "nbformat": 4,
 "nbformat_minor": 2
}
